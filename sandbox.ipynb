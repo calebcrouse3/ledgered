{
 "cells": [
  {
   "cell_type": "code",
   "execution_count": 32,
   "id": "4df25376",
   "metadata": {},
   "outputs": [],
   "source": [
    "import pandas as pd\n",
    "import os\n",
    "from datetime import datetime"
   ]
  },
  {
   "cell_type": "code",
   "execution_count": 10,
   "id": "147de564",
   "metadata": {},
   "outputs": [
    {
     "data": {
      "text/plain": [
       "['raw_fidelity_large.csv',\n",
       " 'Chase8140_2023.CSV',\n",
       " 'Chase_sample.CSV',\n",
       " 'raw_fidelity.csv',\n",
       " 'raw_fidelity_test.csv']"
      ]
     },
     "execution_count": 10,
     "metadata": {},
     "output_type": "execute_result"
    }
   ],
   "source": [
    "trnx_folder = \"./ledgered/ledgered_app/resources/raw_transactions/\"\n",
    "os.listdir(trnx_folder)"
   ]
  },
  {
   "cell_type": "code",
   "execution_count": 35,
   "id": "c37a7917",
   "metadata": {},
   "outputs": [],
   "source": [
    "OUTPUT_SCHEMA = {\n",
    "            \"date\": \"object\",\n",
    "            \"type\": \"string\",\n",
    "            \"amount\": \"float64\",\n",
    "            \"original_description\": \"string\"\n",
    "        }"
   ]
  },
  {
   "cell_type": "code",
   "execution_count": 22,
   "id": "e209e280",
   "metadata": {},
   "outputs": [],
   "source": [
    "def snake_case(s):\n",
    "    \"\"\"Convert strings to snake case\"\"\"\n",
    "    return s.replace(\" \", \"_\").lower()"
   ]
  },
  {
   "cell_type": "code",
   "execution_count": 23,
   "id": "e41cdf3a",
   "metadata": {},
   "outputs": [],
   "source": [
    "def sign_to_type(number):\n",
    "    if float(number) > 0:\n",
    "        return \"Credit\"\n",
    "    else:\n",
    "        return \"Debit\""
   ]
  },
  {
   "cell_type": "code",
   "execution_count": 24,
   "id": "3312f4dd",
   "metadata": {},
   "outputs": [],
   "source": [
    "chase_df = pd.read_csv(trnx_folder + 'Chase8140_2023.CSV')"
   ]
  },
  {
   "cell_type": "code",
   "execution_count": 25,
   "id": "d0b766c4",
   "metadata": {},
   "outputs": [],
   "source": [
    "chase_df.columns = [snake_case(colname) for colname in chase_df.columns]"
   ]
  },
  {
   "cell_type": "code",
   "execution_count": 36,
   "id": "9875b762",
   "metadata": {},
   "outputs": [],
   "source": [
    "def process_raw_transaction_df(df):\n",
    "        \"\"\"Expected Output:\n",
    "        {\n",
    "            \"date\": \"object\",\n",
    "            \"type\": \"string\",\n",
    "            \"amount\": \"float64\",\n",
    "            \"original_description\": \"string\"\n",
    "        }\n",
    "        \"\"\"\n",
    "        processed_df = df.copy()\n",
    "        processed_df[\"original_description\"] = processed_df[\"description\"].astype(\"string\")\n",
    "        # -/+ amount is debit/credit\n",
    "        processed_df[\"type\"] = processed_df[\"amount\"].apply(lambda x: sign_to_type(x)).astype(\"string\")\n",
    "        processed_df[\"amount\"] = processed_df[\"amount\"].astype(float).apply(abs)\n",
    "        processed_df[\"date\"] = processed_df[\"transaction_date\"].apply(lambda x: datetime.strptime(x, \"%m/%d/%Y\").date())\n",
    "        return processed_df[OUTPUT_SCHEMA.keys()]"
   ]
  },
  {
   "cell_type": "code",
   "execution_count": 38,
   "id": "3b9a14c3",
   "metadata": {},
   "outputs": [],
   "source": [
    "chase_processed = process_raw_transaction_df(chase_df)"
   ]
  },
  {
   "cell_type": "code",
   "execution_count": null,
   "id": "de16e4b9",
   "metadata": {},
   "outputs": [],
   "source": [
    "# how to consolidate!!!!"
   ]
  },
  {
   "cell_type": "code",
   "execution_count": 43,
   "id": "c1559044",
   "metadata": {},
   "outputs": [
    {
     "data": {
      "text/plain": [
       "172"
      ]
     },
     "execution_count": 43,
     "metadata": {},
     "output_type": "execute_result"
    }
   ],
   "source": [
    "len(chase_processed)"
   ]
  },
  {
   "cell_type": "code",
   "execution_count": 46,
   "id": "8aac2f84",
   "metadata": {},
   "outputs": [
    {
     "data": {
      "text/html": [
       "<div>\n",
       "<style scoped>\n",
       "    .dataframe tbody tr th:only-of-type {\n",
       "        vertical-align: middle;\n",
       "    }\n",
       "\n",
       "    .dataframe tbody tr th {\n",
       "        vertical-align: top;\n",
       "    }\n",
       "\n",
       "    .dataframe thead th {\n",
       "        text-align: right;\n",
       "    }\n",
       "</style>\n",
       "<table border=\"1\" class=\"dataframe\">\n",
       "  <thead>\n",
       "    <tr style=\"text-align: right;\">\n",
       "      <th></th>\n",
       "      <th>date</th>\n",
       "      <th>type</th>\n",
       "      <th>original_description</th>\n",
       "      <th>amount</th>\n",
       "    </tr>\n",
       "  </thead>\n",
       "  <tbody>\n",
       "    <tr>\n",
       "      <th>0</th>\n",
       "      <td>2022-12-29</td>\n",
       "      <td>Debit</td>\n",
       "      <td>AMERICAN AIR0010280316665</td>\n",
       "      <td>30.00</td>\n",
       "    </tr>\n",
       "    <tr>\n",
       "      <th>1</th>\n",
       "      <td>2022-12-29</td>\n",
       "      <td>Debit</td>\n",
       "      <td>DCA SAYSIBON PIER C</td>\n",
       "      <td>3.70</td>\n",
       "    </tr>\n",
       "    <tr>\n",
       "      <th>2</th>\n",
       "      <td>2022-12-29</td>\n",
       "      <td>Debit</td>\n",
       "      <td>MEZEH - DCA</td>\n",
       "      <td>16.94</td>\n",
       "    </tr>\n",
       "    <tr>\n",
       "      <th>3</th>\n",
       "      <td>2022-12-30</td>\n",
       "      <td>Debit</td>\n",
       "      <td>BIG NIGHT LIVE</td>\n",
       "      <td>23.40</td>\n",
       "    </tr>\n",
       "    <tr>\n",
       "      <th>4</th>\n",
       "      <td>2022-12-30</td>\n",
       "      <td>Debit</td>\n",
       "      <td>FAMILY PRACTICE GROUP PC</td>\n",
       "      <td>20.00</td>\n",
       "    </tr>\n",
       "    <tr>\n",
       "      <th>...</th>\n",
       "      <td>...</td>\n",
       "      <td>...</td>\n",
       "      <td>...</td>\n",
       "      <td>...</td>\n",
       "    </tr>\n",
       "    <tr>\n",
       "      <th>146</th>\n",
       "      <td>2023-02-13</td>\n",
       "      <td>Debit</td>\n",
       "      <td>OPENART AI</td>\n",
       "      <td>10.00</td>\n",
       "    </tr>\n",
       "    <tr>\n",
       "      <th>147</th>\n",
       "      <td>2023-02-13</td>\n",
       "      <td>Debit</td>\n",
       "      <td>SQ *NINE BAR ESPRESSO</td>\n",
       "      <td>4.50</td>\n",
       "    </tr>\n",
       "    <tr>\n",
       "      <th>148</th>\n",
       "      <td>2023-02-14</td>\n",
       "      <td>Debit</td>\n",
       "      <td>OPENART AI</td>\n",
       "      <td>2.00</td>\n",
       "    </tr>\n",
       "    <tr>\n",
       "      <th>149</th>\n",
       "      <td>2023-02-15</td>\n",
       "      <td>Credit</td>\n",
       "      <td>Payment Thank You - Web</td>\n",
       "      <td>2412.25</td>\n",
       "    </tr>\n",
       "    <tr>\n",
       "      <th>150</th>\n",
       "      <td>2023-02-15</td>\n",
       "      <td>Debit</td>\n",
       "      <td>OPENART AI</td>\n",
       "      <td>14.00</td>\n",
       "    </tr>\n",
       "  </tbody>\n",
       "</table>\n",
       "<p>151 rows × 4 columns</p>\n",
       "</div>"
      ],
      "text/plain": [
       "           date    type       original_description   amount\n",
       "0    2022-12-29   Debit  AMERICAN AIR0010280316665    30.00\n",
       "1    2022-12-29   Debit        DCA SAYSIBON PIER C     3.70\n",
       "2    2022-12-29   Debit                MEZEH - DCA    16.94\n",
       "3    2022-12-30   Debit             BIG NIGHT LIVE    23.40\n",
       "4    2022-12-30   Debit   FAMILY PRACTICE GROUP PC    20.00\n",
       "..          ...     ...                        ...      ...\n",
       "146  2023-02-13   Debit                 OPENART AI    10.00\n",
       "147  2023-02-13   Debit      SQ *NINE BAR ESPRESSO     4.50\n",
       "148  2023-02-14   Debit                 OPENART AI     2.00\n",
       "149  2023-02-15  Credit    Payment Thank You - Web  2412.25\n",
       "150  2023-02-15   Debit                 OPENART AI    14.00\n",
       "\n",
       "[151 rows x 4 columns]"
      ]
     },
     "execution_count": 46,
     "metadata": {},
     "output_type": "execute_result"
    }
   ],
   "source": [
    "chase_processed.groupby(['date','type','original_description'], as_index=False).amount.sum()"
   ]
  },
  {
   "cell_type": "code",
   "execution_count": null,
   "id": "419c2351",
   "metadata": {},
   "outputs": [],
   "source": []
  }
 ],
 "metadata": {
  "kernelspec": {
   "display_name": "local-venv-kernel",
   "language": "python",
   "name": "local-venv-kernel"
  },
  "language_info": {
   "codemirror_mode": {
    "name": "ipython",
    "version": 3
   },
   "file_extension": ".py",
   "mimetype": "text/x-python",
   "name": "python",
   "nbconvert_exporter": "python",
   "pygments_lexer": "ipython3",
   "version": "3.10.8"
  }
 },
 "nbformat": 4,
 "nbformat_minor": 5
}
