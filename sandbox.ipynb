{
 "cells": [
  {
   "cell_type": "code",
   "execution_count": 64,
   "id": "4df25376",
   "metadata": {},
   "outputs": [],
   "source": [
    "import pandas as pd\n",
    "import os\n",
    "from datetime import datetime\n",
    "import pandas as pd\n",
    "from bokeh.io import output_file, show\n",
    "from bokeh.plotting import figure\n",
    "from bokeh.models import ColumnDataSource, CDSView, BooleanFilter, HoverTool, CustomJS, Select\n",
    "from bokeh.layouts import column\n",
    "from bokeh.transform import factor_cmap\n",
    "from datetime import datetime, timedelta\n",
    "from bokeh.palettes import HighContrast3, Spectral"
   ]
  },
  {
   "cell_type": "code",
   "execution_count": 2,
   "id": "0af66242",
   "metadata": {},
   "outputs": [],
   "source": [
    "df = pd.read_csv(\"./ledgered/ledgered_app/resources/transactions/chase_categorized.csv\", parse_dates=['date'])\n",
    "# removed ignore category\n",
    "df.drop(df[df[\"category\"] == \"Ignore\"].index, inplace=True)"
   ]
  },
  {
   "cell_type": "markdown",
   "id": "c4b623f0",
   "metadata": {},
   "source": [
    "### Derived features"
   ]
  },
  {
   "cell_type": "code",
   "execution_count": 3,
   "id": "6b7bee31",
   "metadata": {},
   "outputs": [],
   "source": [
    "df[\"day_of_week\"] = df.date.dt.weekday\n",
    "df[\"first_day_of_week\"] = df.date - df.day_of_week * timedelta(days=1)\n",
    "df[\"first_day_of_week\"] = df[\"first_day_of_week\"].apply(lambda x: x.date())"
   ]
  },
  {
   "cell_type": "code",
   "execution_count": 4,
   "id": "376f2d2c",
   "metadata": {},
   "outputs": [
    {
     "data": {
      "text/html": [
       "<div>\n",
       "<style scoped>\n",
       "    .dataframe tbody tr th:only-of-type {\n",
       "        vertical-align: middle;\n",
       "    }\n",
       "\n",
       "    .dataframe tbody tr th {\n",
       "        vertical-align: top;\n",
       "    }\n",
       "\n",
       "    .dataframe thead th {\n",
       "        text-align: right;\n",
       "    }\n",
       "</style>\n",
       "<table border=\"1\" class=\"dataframe\">\n",
       "  <thead>\n",
       "    <tr style=\"text-align: right;\">\n",
       "      <th></th>\n",
       "      <th>date</th>\n",
       "      <th>type</th>\n",
       "      <th>amount</th>\n",
       "      <th>account</th>\n",
       "      <th>original_description</th>\n",
       "      <th>pretty_description</th>\n",
       "      <th>category</th>\n",
       "      <th>subcategory</th>\n",
       "      <th>day_of_week</th>\n",
       "      <th>first_day_of_week</th>\n",
       "    </tr>\n",
       "  </thead>\n",
       "  <tbody>\n",
       "    <tr>\n",
       "      <th>0</th>\n",
       "      <td>2022-12-29</td>\n",
       "      <td>Debit</td>\n",
       "      <td>30.00</td>\n",
       "      <td>Chase</td>\n",
       "      <td>AMERICAN AIR0010280316665</td>\n",
       "      <td>American Airlines</td>\n",
       "      <td>Travel</td>\n",
       "      <td>Airplane</td>\n",
       "      <td>3</td>\n",
       "      <td>2022-12-26</td>\n",
       "    </tr>\n",
       "    <tr>\n",
       "      <th>1</th>\n",
       "      <td>2022-12-29</td>\n",
       "      <td>Debit</td>\n",
       "      <td>3.70</td>\n",
       "      <td>Chase</td>\n",
       "      <td>DCA SAYSIBON PIER C</td>\n",
       "      <td>NaN</td>\n",
       "      <td>Eating &amp; Drinking Out</td>\n",
       "      <td>Bars</td>\n",
       "      <td>3</td>\n",
       "      <td>2022-12-26</td>\n",
       "    </tr>\n",
       "    <tr>\n",
       "      <th>2</th>\n",
       "      <td>2022-12-29</td>\n",
       "      <td>Debit</td>\n",
       "      <td>16.94</td>\n",
       "      <td>Chase</td>\n",
       "      <td>MEZEH - DCA</td>\n",
       "      <td>NaN</td>\n",
       "      <td>Eating &amp; Drinking Out</td>\n",
       "      <td>Restaurants</td>\n",
       "      <td>3</td>\n",
       "      <td>2022-12-26</td>\n",
       "    </tr>\n",
       "    <tr>\n",
       "      <th>3</th>\n",
       "      <td>2022-12-30</td>\n",
       "      <td>Debit</td>\n",
       "      <td>23.40</td>\n",
       "      <td>Chase</td>\n",
       "      <td>BIG NIGHT LIVE</td>\n",
       "      <td>Big Night Live</td>\n",
       "      <td>Eating &amp; Drinking Out</td>\n",
       "      <td>Bars</td>\n",
       "      <td>4</td>\n",
       "      <td>2022-12-26</td>\n",
       "    </tr>\n",
       "    <tr>\n",
       "      <th>4</th>\n",
       "      <td>2022-12-30</td>\n",
       "      <td>Debit</td>\n",
       "      <td>20.00</td>\n",
       "      <td>Chase</td>\n",
       "      <td>FAMILY PRACTICE GROUP PC</td>\n",
       "      <td>Family Practice Group</td>\n",
       "      <td>Medical</td>\n",
       "      <td>Doctor</td>\n",
       "      <td>4</td>\n",
       "      <td>2022-12-26</td>\n",
       "    </tr>\n",
       "  </tbody>\n",
       "</table>\n",
       "</div>"
      ],
      "text/plain": [
       "        date   type  amount account       original_description  \\\n",
       "0 2022-12-29  Debit   30.00   Chase  AMERICAN AIR0010280316665   \n",
       "1 2022-12-29  Debit    3.70   Chase        DCA SAYSIBON PIER C   \n",
       "2 2022-12-29  Debit   16.94   Chase                MEZEH - DCA   \n",
       "3 2022-12-30  Debit   23.40   Chase             BIG NIGHT LIVE   \n",
       "4 2022-12-30  Debit   20.00   Chase   FAMILY PRACTICE GROUP PC   \n",
       "\n",
       "      pretty_description               category  subcategory  day_of_week  \\\n",
       "0      American Airlines                 Travel     Airplane            3   \n",
       "1                    NaN  Eating & Drinking Out         Bars            3   \n",
       "2                    NaN  Eating & Drinking Out  Restaurants            3   \n",
       "3         Big Night Live  Eating & Drinking Out         Bars            4   \n",
       "4  Family Practice Group                Medical       Doctor            4   \n",
       "\n",
       "  first_day_of_week  \n",
       "0        2022-12-26  \n",
       "1        2022-12-26  \n",
       "2        2022-12-26  \n",
       "3        2022-12-26  \n",
       "4        2022-12-26  "
      ]
     },
     "execution_count": 4,
     "metadata": {},
     "output_type": "execute_result"
    }
   ],
   "source": [
    "df.head()"
   ]
  },
  {
   "cell_type": "markdown",
   "id": "c3e01e68",
   "metadata": {},
   "source": [
    "# Global plot settings"
   ]
  },
  {
   "cell_type": "code",
   "execution_count": 5,
   "id": "c45d65ef",
   "metadata": {},
   "outputs": [],
   "source": [
    "tools = [\"reset\", \"hover\"]\n",
    "height=800\n",
    "width=1000"
   ]
  },
  {
   "cell_type": "markdown",
   "id": "27faf4dd",
   "metadata": {},
   "source": [
    "# Simple Scatter Plot"
   ]
  },
  {
   "cell_type": "code",
   "execution_count": 30,
   "id": "a3fd948c",
   "metadata": {},
   "outputs": [],
   "source": [
    "date_amount_df = ColumnDataSource(df[[\"day_of_week\", \"amount\"]])\n",
    "\n",
    "p = get_plot()\n",
    "p.circle(x=\"day_of_week\", y=\"amount\", source=date_amount_df)\n",
    "show(p)"
   ]
  },
  {
   "cell_type": "markdown",
   "id": "ec96c597",
   "metadata": {},
   "source": [
    "# hbar category totals"
   ]
  },
  {
   "cell_type": "code",
   "execution_count": 88,
   "id": "2cfb3422",
   "metadata": {},
   "outputs": [],
   "source": [
    "df1 = df.groupby(\"category\", as_index=False).amount.sum().sort_values(\"amount\", ascending=True)\n",
    "cats = df1[\"category\"].unique()\n",
    "source = ColumnDataSource(df1)\n",
    "p = figure(y_range=cats, height=800, width=1000, tools=tools, title=\"Category Totals\")\n",
    "p.hbar(y='category', right='amount', source=source, height=0.9)\n",
    "show(p)"
   ]
  },
  {
   "cell_type": "markdown",
   "id": "eb7eee21",
   "metadata": {},
   "source": [
    "# vbar weekly totals"
   ]
  },
  {
   "cell_type": "code",
   "execution_count": 96,
   "id": "e590c02d",
   "metadata": {},
   "outputs": [],
   "source": [
    "df2 = df.groupby(\"first_day_of_week\", as_index=False).amount.sum().sort_values(\"first_day_of_week\")\n",
    "df2[\"first_day_of_week\"] = df2[\"first_day_of_week\"].apply(lambda x: str(x))\n",
    "weeks = df2[\"first_day_of_week\"]\n",
    "source = ColumnDataSource(df2)\n",
    "p = figure(x_range=weeks, height=800, width=1000, tools=tools, title=\"Weekly Totals\")\n",
    "p.vbar(x='first_day_of_week', top='amount', source=source, width=0.9)\n",
    "show(p)"
   ]
  },
  {
   "cell_type": "markdown",
   "id": "3cb13af4",
   "metadata": {},
   "source": [
    "# vbar weekly totals by category"
   ]
  },
  {
   "cell_type": "code",
   "execution_count": 68,
   "id": "1ed4a2d6",
   "metadata": {},
   "outputs": [],
   "source": [
    "# setup the data frame\n",
    "df3 = df.groupby([\"first_day_of_week\", \"category\"], as_index=False).amount.sum().sort_values(\"first_day_of_week\")\n",
    "df3[\"first_day_of_week\"] = df3[\"first_day_of_week\"].apply(lambda x: str(x))\n",
    "weeks = sorted(df3[\"first_day_of_week\"].unique())\n",
    "weeks_idx_dict = {x: y for x, y in zip(weeks, range(len(weeks)))}\n",
    "cats = sorted(df3[\"category\"].unique())\n",
    "\n",
    "data = {'weeks': weeks}\n",
    "for cat in cats:\n",
    "    weekly_amounts = [0] * len(weeks)\n",
    "    cat_data = list(df3.loc[df3[\"category\"] == cat, [\"first_day_of_week\", \"amount\"]].values)\n",
    "    for week, amount in cat_data:\n",
    "        weekly_amounts[weeks_idx_dict[week]] = amount\n",
    "    data[cat] = weekly_amounts\n",
    "    \n",
    "p = figure(x_range=weeks, height=800, width=1000, tools=\"hover\", title=\"Weekly Totals\", tooltips=\"$name @weeks: @$name\")\n",
    "\n",
    "p.vbar_stack(cats, x='weeks', source=data, width=0.9, legend_label=cats, color=Spectral[len(cats)])\n",
    "\n",
    "p.legend.click_policy=\"hide\"\n",
    "\n",
    "show(p)"
   ]
  },
  {
   "cell_type": "markdown",
   "id": "99df9815",
   "metadata": {},
   "source": [
    "# week average per category pie chart"
   ]
  },
  {
   "cell_type": "code",
   "execution_count": 85,
   "id": "81b75214",
   "metadata": {},
   "outputs": [],
   "source": [
    "from math import pi\n",
    "\n",
    "import pandas as pd\n",
    "\n",
    "from bokeh.palettes import Category20c\n",
    "from bokeh.plotting import figure, show\n",
    "from bokeh.transform import cumsum\n",
    "\n",
    "\n",
    "group = df.groupby(\"category\", as_index=False).amount.sum()\n",
    "group[\"value\"] = group[\"amount\"] / len(df[\"first_day_of_week\"].unique())\n",
    "data = group[[\"category\", \"value\"]].sort_values(\"value\")\n",
    "\n",
    "data['angle'] = data['value']/data['value'].sum() * 2*pi\n",
    "data['color'] = Category20c[len(data)]\n",
    "\n",
    "p = figure(height=350, title=\"Pie Chart\", toolbar_location=None,\n",
    "           tools=\"hover\", tooltips=\"@category: @value\", x_range=(-0.5, 1.0))\n",
    "\n",
    "p.wedge(x=0, y=1, radius=0.4,\n",
    "        start_angle=cumsum('angle', include_zero=True), end_angle=cumsum('angle'),\n",
    "        line_color=\"white\", fill_color='color', legend_field='category', source=data)\n",
    "\n",
    "p.axis.axis_label = None\n",
    "p.axis.visible = False\n",
    "p.grid.grid_line_color = None\n",
    "\n",
    "show(p)"
   ]
  }
 ],
 "metadata": {
  "kernelspec": {
   "display_name": "local-venv-kernel",
   "language": "python",
   "name": "local-venv-kernel"
  },
  "language_info": {
   "codemirror_mode": {
    "name": "ipython",
    "version": 3
   },
   "file_extension": ".py",
   "mimetype": "text/x-python",
   "name": "python",
   "nbconvert_exporter": "python",
   "pygments_lexer": "ipython3",
   "version": "3.10.8"
  }
 },
 "nbformat": 4,
 "nbformat_minor": 5
}
